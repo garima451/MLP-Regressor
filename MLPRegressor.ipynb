{
  "cells": [
    {
      "cell_type": "code",
      "execution_count": null,
      "metadata": {
        "colab": {
          "base_uri": "https://localhost:8080/"
        },
        "id": "HkHmkJitEpTU",
        "outputId": "30349686-49cb-4829-be54-23ff675d2dd9"
      },
      "outputs": [
        {
          "name": "stdout",
          "output_type": "stream",
          "text": [
            "       X1     X2     X3      X4   X5  X6   X7  X8     Y1     Y2\n",
            "0    0.98  514.5  294.0  110.25  7.0   2  0.0   0  15.55  21.33\n",
            "1    0.98  514.5  294.0  110.25  7.0   3  0.0   0  15.55  21.33\n",
            "2    0.98  514.5  294.0  110.25  7.0   4  0.0   0  15.55  21.33\n",
            "3    0.98  514.5  294.0  110.25  7.0   5  0.0   0  15.55  21.33\n",
            "4    0.90  563.5  318.5  122.50  7.0   2  0.0   0  20.84  28.28\n",
            "..    ...    ...    ...     ...  ...  ..  ...  ..    ...    ...\n",
            "763  0.64  784.0  343.0  220.50  3.5   5  0.4   5  17.88  21.40\n",
            "764  0.62  808.5  367.5  220.50  3.5   2  0.4   5  16.54  16.88\n",
            "765  0.62  808.5  367.5  220.50  3.5   3  0.4   5  16.44  17.11\n",
            "766  0.62  808.5  367.5  220.50  3.5   4  0.4   5  16.48  16.61\n",
            "767  0.62  808.5  367.5  220.50  3.5   5  0.4   5  16.64  16.03\n",
            "\n",
            "[768 rows x 10 columns]\n",
            "<class 'pandas.core.frame.DataFrame'>\n",
            "RangeIndex: 768 entries, 0 to 767\n",
            "Data columns (total 10 columns):\n",
            " #   Column  Non-Null Count  Dtype  \n",
            "---  ------  --------------  -----  \n",
            " 0   X1      768 non-null    float64\n",
            " 1   X2      768 non-null    float64\n",
            " 2   X3      768 non-null    float64\n",
            " 3   X4      768 non-null    float64\n",
            " 4   X5      768 non-null    float64\n",
            " 5   X6      768 non-null    int64  \n",
            " 6   X7      768 non-null    float64\n",
            " 7   X8      768 non-null    int64  \n",
            " 8   Y1      768 non-null    float64\n",
            " 9   Y2      768 non-null    float64\n",
            "dtypes: float64(8), int64(2)\n",
            "memory usage: 60.1 KB\n",
            "None\n",
            "               X1          X2          X3          X4         X5          X6  \\\n",
            "count  768.000000  768.000000  768.000000  768.000000  768.00000  768.000000   \n",
            "mean     0.764167  671.708333  318.500000  176.604167    5.25000    3.500000   \n",
            "std      0.105777   88.086116   43.626481   45.165950    1.75114    1.118763   \n",
            "min      0.620000  514.500000  245.000000  110.250000    3.50000    2.000000   \n",
            "25%      0.682500  606.375000  294.000000  140.875000    3.50000    2.750000   \n",
            "50%      0.750000  673.750000  318.500000  183.750000    5.25000    3.500000   \n",
            "75%      0.830000  741.125000  343.000000  220.500000    7.00000    4.250000   \n",
            "max      0.980000  808.500000  416.500000  220.500000    7.00000    5.000000   \n",
            "\n",
            "               X7         X8          Y1          Y2  \n",
            "count  768.000000  768.00000  768.000000  768.000000  \n",
            "mean     0.234375    2.81250   22.307201   24.587760  \n",
            "std      0.133221    1.55096   10.090196    9.513306  \n",
            "min      0.000000    0.00000    6.010000   10.900000  \n",
            "25%      0.100000    1.75000   12.992500   15.620000  \n",
            "50%      0.250000    3.00000   18.950000   22.080000  \n",
            "75%      0.400000    4.00000   31.667500   33.132500  \n",
            "max      0.400000    5.00000   43.100000   48.030000  \n",
            "X1    0\n",
            "X2    0\n",
            "X3    0\n",
            "X4    0\n",
            "X5    0\n",
            "X6    0\n",
            "X7    0\n",
            "X8    0\n",
            "Y1    0\n",
            "Y2    0\n",
            "dtype: int64\n"
          ]
        }
      ],
      "source": [
        "import numpy as np\n",
        "import pandas as pd\n",
        "import matplotlib.pyplot as plt\n",
        "df=pd.read_csv('/content/sample_data/ENB2012_data.csv')\n",
        "print(df)\n",
        "print(df.info())\n",
        "print(df.describe())\n",
        "print(df.isnull().sum())\n"
      ]
    },
    {
      "cell_type": "code",
      "execution_count": null,
      "metadata": {
        "colab": {
          "base_uri": "https://localhost:8080/"
        },
        "id": "MHbEgfYoFRZp",
        "outputId": "69146804-5218-4b71-9d15-accdadd9c430"
      },
      "outputs": [
        {
          "name": "stdout",
          "output_type": "stream",
          "text": [
            "     Relative_Compactness  Surface_Area  Wall_Area  Roof_Area  Overall_Height  \\\n",
            "0                    0.98         514.5      294.0     110.25             7.0   \n",
            "1                    0.98         514.5      294.0     110.25             7.0   \n",
            "2                    0.98         514.5      294.0     110.25             7.0   \n",
            "3                    0.98         514.5      294.0     110.25             7.0   \n",
            "4                    0.90         563.5      318.5     122.50             7.0   \n",
            "..                    ...           ...        ...        ...             ...   \n",
            "763                  0.64         784.0      343.0     220.50             3.5   \n",
            "764                  0.62         808.5      367.5     220.50             3.5   \n",
            "765                  0.62         808.5      367.5     220.50             3.5   \n",
            "766                  0.62         808.5      367.5     220.50             3.5   \n",
            "767                  0.62         808.5      367.5     220.50             3.5   \n",
            "\n",
            "     Orientation  Glazing_Area  Glazing_Area_Distribution  Heating_Load  \\\n",
            "0              2           0.0                          0         15.55   \n",
            "1              3           0.0                          0         15.55   \n",
            "2              4           0.0                          0         15.55   \n",
            "3              5           0.0                          0         15.55   \n",
            "4              2           0.0                          0         20.84   \n",
            "..           ...           ...                        ...           ...   \n",
            "763            5           0.4                          5         17.88   \n",
            "764            2           0.4                          5         16.54   \n",
            "765            3           0.4                          5         16.44   \n",
            "766            4           0.4                          5         16.48   \n",
            "767            5           0.4                          5         16.64   \n",
            "\n",
            "     Cooling_Load  \n",
            "0           21.33  \n",
            "1           21.33  \n",
            "2           21.33  \n",
            "3           21.33  \n",
            "4           28.28  \n",
            "..            ...  \n",
            "763         21.40  \n",
            "764         16.88  \n",
            "765         17.11  \n",
            "766         16.61  \n",
            "767         16.03  \n",
            "\n",
            "[768 rows x 10 columns]\n"
          ]
        }
      ],
      "source": [
        "df.rename(columns={'X1':'Relative_Compactness','X2':'Surface_Area',\n",
        "                   'X3':'Wall_Area','X4':'Roof_Area','X5':'Overall_Height',\n",
        "                   'X6':'Orientation','X7':'Glazing_Area',\n",
        "                   'X8':'Glazing_Area_Distribution','Y1':'Heating_Load',\n",
        "                   'Y2':'Cooling_Load'}, inplace=True)\n",
        "print(df)"
      ]
    },
    {
      "cell_type": "code",
      "execution_count": null,
      "metadata": {
        "colab": {
          "base_uri": "https://localhost:8080/"
        },
        "id": "GG6ffVJ2LI-E",
        "outputId": "9e8c2699-7579-4b2d-f04a-114a92718575"
      },
      "outputs": [
        {
          "name": "stdout",
          "output_type": "stream",
          "text": [
            "Mean Squared Error (MSE): 0.30460321756390524\n",
            "Root Mean Squared Error (RMSE): 0.5519087040117281\n",
            "Mean Absolute Error (MAE): 0.37130254628489345\n",
            "R-Squared (R²): 0.9970776293907305\n"
          ]
        }
      ],
      "source": [
        "from sklearn.model_selection import train_test_split\n",
        "from sklearn.preprocessing import StandardScaler\n",
        "from sklearn.neural_network import MLPRegressor\n",
        "from sklearn.metrics import mean_squared_error\n",
        "from sklearn.metrics import mean_absolute_error\n",
        "from sklearn.metrics import r2_score\n",
        "\n",
        "X = df.iloc[:, :-2]\n",
        "y = df[\"Heating_Load\"]\n",
        "X_train, X_test, y_train, y_test = train_test_split(X, y, test_size=0.2, random_state=42)\n",
        "scaler = StandardScaler()\n",
        "X_train_scaled = scaler.fit_transform(X_train)\n",
        "X_test_scaled = scaler.transform(X_test)\n",
        "mlp = MLPRegressor(hidden_layer_sizes=(100), activation='tanh', solver='lbfgs', max_iter=10000, random_state=42)\n",
        "mlp.fit(X_train_scaled, y_train)\n",
        "y_pred=mlp.predict(X_test_scaled)\n",
        "mse = mean_squared_error(y_test, y_pred)\n",
        "rmse = np.sqrt(mse)\n",
        "mae = mean_absolute_error(y_test, y_pred)\n",
        "r2 = r2_score(y_test, y_pred)\n",
        "\n",
        "# Display all metrics\n",
        "print(\"Mean Squared Error (MSE):\", mse)\n",
        "print(\"Root Mean Squared Error (RMSE):\", rmse)\n",
        "print(\"Mean Absolute Error (MAE):\", mae)\n",
        "print(\"R-Squared (R²):\", r2)\n"
      ]
    }
  ],
  "metadata": {
    "colab": {
      "provenance": []
    },
    "kernelspec": {
      "display_name": "Python 3",
      "name": "python3"
    },
    "language_info": {
      "name": "python"
    }
  },
  "nbformat": 4,
  "nbformat_minor": 0
}
